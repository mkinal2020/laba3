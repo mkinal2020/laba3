{
 "cells": [
  {
   "cell_type": "code",
   "execution_count": 17,
   "metadata": {},
   "outputs": [
    {
     "name": "stdout",
     "output_type": "stream",
     "text": [
      "Ми отримали значення А = 1? A = 2\n",
      "Значення А відрізняється від наших умов A = 21.02\n",
      "Значення А відрізняється від наших умов A = 43\n",
      "Ми отримали значення А = 1? A = 3\n",
      "Значення А відрізняється від наших умов A = 4\n",
      "Ні, тут немає 5\n"
     ]
    }
   ],
   "source": [
    "ll = [2, 21.02, 43, 3, 4]\n",
    "for A in ll:\n",
    "    if A == 2:\n",
    "        print(\"Ми отримали значення А = 1? A =\", A)\n",
    "    elif A == 3:\n",
    "        print(\"Ми отримали значення А = 1? A =\", A)\n",
    "    else:\n",
    "        print(\"Значення А відрізняється від наших умов A =\", A)\n",
    "\n",
    "if 5 in ll:\n",
    "    print(\"Так тут є 5\")\n",
    "else:\n",
    "    print(\"Ні, тут немає 5\")\n",
    "\n",
    "\n"
   ]
  }
 ],
 "metadata": {
  "kernelspec": {
   "display_name": "Python 3.10.8 64-bit (microsoft store)",
   "language": "python",
   "name": "python3"
  },
  "language_info": {
   "codemirror_mode": {
    "name": "ipython",
    "version": 3
   },
   "file_extension": ".py",
   "mimetype": "text/x-python",
   "name": "python",
   "nbconvert_exporter": "python",
   "pygments_lexer": "ipython3",
   "version": "3.10.8"
  },
  "orig_nbformat": 4,
  "vscode": {
   "interpreter": {
    "hash": "66f804da07f0f556d77bc3269dc5bb19edf020422864031af2885e5ff55f9079"
   }
  }
 },
 "nbformat": 4,
 "nbformat_minor": 2
}
