{
 "cells": [
  {
   "cell_type": "code",
   "execution_count": 1,
   "metadata": {},
   "outputs": [
    {
     "name": "stdout",
     "output_type": "stream",
     "text": [
      " 0Це безкіннечний цикл !!! Доки не зависне бот\n",
      " 1Це безкіннечний цикл !!! Доки не зависне бот\n",
      " 2Це безкіннечний цикл !!! Доки не зависне бот\n",
      " 3Це безкіннечний цикл !!! Доки не зависне бот\n",
      " 4Це безкіннечний цикл !!! Доки не зависне бот\n",
      "Цикл нарешті закінчився \n",
      "Це безкіннечний цикл !!! Доки не зависне бот 0\n",
      "Це безкіннечний цикл !!! Доки не зависне бот 1\n",
      "Це безкіннечний цикл !!! Доки не зависне бот 3\n",
      "Нарешті цей бот перестав запускати безкіннечні цикл\n"
     ]
    }
   ],
   "source": [
    "li = [13, 24, \"abc\", \"qwe\", \"Це кінець\"]\n",
    "\n",
    "i = 0\n",
    "while True:\n",
    "    print(f\" {i}Це безкіннечний цикл !!! Доки не зависне бот\")\n",
    "    if li[i] == \"Це кінець\":\n",
    "        print(\"Цикл нарешті закінчився \")\n",
    "        break\n",
    "    i += 1\n",
    "\n",
    "i = 0\n",
    "while li[i] != \"Це кінець\":\n",
    "    if li[i] == \"abc\":\n",
    "        i += 1\n",
    "        continue\n",
    "    print(f\"Це безкіннечний цикл !!! Доки не зависне бот {i}\")\n",
    "    i += 1\n",
    "else:\n",
    "    print(\"Нарешті цей бот перестав запускати безкіннечні цикл\")\n",
    "    "
   ]
  }
 ],
 "metadata": {
  "kernelspec": {
   "display_name": "Python 3.10.8 64-bit (microsoft store)",
   "language": "python",
   "name": "python3"
  },
  "language_info": {
   "codemirror_mode": {
    "name": "ipython",
    "version": 3
   },
   "file_extension": ".py",
   "mimetype": "text/x-python",
   "name": "python",
   "nbconvert_exporter": "python",
   "pygments_lexer": "ipython3",
   "version": "3.10.8"
  },
  "orig_nbformat": 4,
  "vscode": {
   "interpreter": {
    "hash": "66f804da07f0f556d77bc3269dc5bb19edf020422864031af2885e5ff55f9079"
   }
  }
 },
 "nbformat": 4,
 "nbformat_minor": 2
}
