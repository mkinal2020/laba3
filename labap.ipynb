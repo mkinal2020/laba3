{
 "cells": [
  {
   "cell_type": "code",
   "execution_count": 9,
   "metadata": {},
   "outputs": [
    {
     "name": "stdout",
     "output_type": "stream",
     "text": [
      "Що буде якщо 10/2 =  5.0 ?\n",
      "Відбулася помилка, і ми її помітили  Це навмисно створена помилка \n"
     ]
    }
   ],
   "source": [
    "from random import choice\n",
    "\n",
    "A = choice([7, 3, 2, 6.5, 0])\n",
    "try:\n",
    "    print(f\"Що буде якщо 10/{A} = \", 10/A, \"?\")\n",
    "    raise TypeError(\"Це навмисно створена помилка \")\n",
    "except (ZeroDivisionError, TypeError) as e:\n",
    "    print(\"Відбулася помилка, і ми її помітили \", e)\n"
   ]
  }
 ],
 "metadata": {
  "kernelspec": {
   "display_name": "Python 3.10.8 64-bit (microsoft store)",
   "language": "python",
   "name": "python3"
  },
  "language_info": {
   "codemirror_mode": {
    "name": "ipython",
    "version": 3
   },
   "file_extension": ".py",
   "mimetype": "text/x-python",
   "name": "python",
   "nbconvert_exporter": "python",
   "pygments_lexer": "ipython3",
   "version": "3.10.8"
  },
  "orig_nbformat": 4,
  "vscode": {
   "interpreter": {
    "hash": "66f804da07f0f556d77bc3269dc5bb19edf020422864031af2885e5ff55f9079"
   }
  }
 },
 "nbformat": 4,
 "nbformat_minor": 2
}
