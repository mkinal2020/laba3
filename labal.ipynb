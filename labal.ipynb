{
 "cells": [
  {
   "cell_type": "code",
   "execution_count": 1,
   "metadata": {},
   "outputs": [
    {
     "name": "stdout",
     "output_type": "stream",
     "text": [
      "Це є початкова функція : <function my_nick at 0x00000219B3867D00>\n",
      "Запускаємо функцію: Моє імя Mukola Моє прізвище   M\n",
      "Це є початкова функція: <function <lambda> at 0x00000219B3867D90>\n",
      "Запускаємо функцію: Моє імя Mukola Моє прізвище  M\n"
     ]
    }
   ],
   "source": [
    "def my_nick(first, last):\n",
    "    return f\"Моє імя {first} Моє прізвище   {last}\"\n",
    "\n",
    "print(\"Це є початкова функція :\", my_nick)\n",
    "print(\"Запускаємо функцію:\", my_nick(\"Mukola\", \"M\"))\n",
    "\n",
    "this_is_lambda = lambda first, last: f\"Моє імя {first} Моє прізвище  {last}\"\n",
    "print(\"Це є початкова функція:\", this_is_lambda)\n",
    "print(\"Запускаємо функцію:\", this_is_lambda('Mukola', 'M'))"
   ]
  }
 ],
 "metadata": {
  "kernelspec": {
   "display_name": "Python 3.10.8 64-bit (microsoft store)",
   "language": "python",
   "name": "python3"
  },
  "language_info": {
   "codemirror_mode": {
    "name": "ipython",
    "version": 3
   },
   "file_extension": ".py",
   "mimetype": "text/x-python",
   "name": "python",
   "nbconvert_exporter": "python",
   "pygments_lexer": "ipython3",
   "version": "3.10.8"
  },
  "orig_nbformat": 4,
  "vscode": {
   "interpreter": {
    "hash": "66f804da07f0f556d77bc3269dc5bb19edf020422864031af2885e5ff55f9079"
   }
  }
 },
 "nbformat": 4,
 "nbformat_minor": 2
}
