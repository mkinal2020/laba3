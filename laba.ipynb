{
 "cells": [
  {
   "cell_type": "code",
   "execution_count": 2,
   "metadata": {},
   "outputs": [
    {
     "name": "stdout",
     "output_type": "stream",
     "text": [
      "1 Щоб показалося на екрані: типими даних 1 1.5 Закінчив цей рядок\n",
      "2 Що роблю роботу : типими даних 1 1.5 Сьогодні\n",
      "Закінчив роботу: типими даних 1 1.5 Вкінці роботи\n",
      "Кінець лаби <class 'str'>\n",
      "Познайомтесь з основними типими даних\n"
     ]
    }
   ],
   "source": [
    "str_1 = \"типими даних\"\n",
    "int_1 = 1\n",
    "float_1 = 1.5\n",
    "\n",
    "print(\"1 Щоб показалося на екрані:\", str_1, int_1, float_1, \"Закінчив цей рядок\")\n",
    "\n",
    "print(\"2 Що роблю роботу : {1} {2} {3} {0}\".format(\"Сьогодні\", str_1, int_1, float_1))\n",
    "\n",
    "print(f\"Закінчив роботу: {str_1} {int_1} {float_1} Вкінці роботи\")\n",
    "\n",
    "print(f\"Кінець лаби {type(str_1)}\")\n",
    "str_2 = str_1.capitalize()\n",
    "print(f\"Познайомтесь з основними {str_1}\")"
   ]
  }
 ],
 "metadata": {
  "kernelspec": {
   "display_name": "Python 3.10.8 64-bit (microsoft store)",
   "language": "python",
   "name": "python3"
  },
  "language_info": {
   "codemirror_mode": {
    "name": "ipython",
    "version": 3
   },
   "file_extension": ".py",
   "mimetype": "text/x-python",
   "name": "python",
   "nbconvert_exporter": "python",
   "pygments_lexer": "ipython3",
   "version": "3.10.8"
  },
  "orig_nbformat": 4,
  "vscode": {
   "interpreter": {
    "hash": "66f804da07f0f556d77bc3269dc5bb19edf020422864031af2885e5ff55f9079"
   }
  }
 },
 "nbformat": 4,
 "nbformat_minor": 2
}
